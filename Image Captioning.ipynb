{
 "cells": [
  {
   "cell_type": "code",
   "execution_count": 273,
   "metadata": {},
   "outputs": [],
   "source": [
    "import pandas as pd\n",
    "import numpy as np\n",
    "import matplotlib.pyplot as plt\n",
    "import string"
   ]
  },
  {
   "cell_type": "code",
   "execution_count": 274,
   "metadata": {},
   "outputs": [
    {
     "data": {
      "text/plain": [
       "['1000268201_693b08cb0e.jpg#0\\tA child in a pink dress is climbing up a set of stairs in an entry way .\\n',\n",
       " '1000268201_693b08cb0e.jpg#1\\tA girl going into a wooden building .\\n',\n",
       " '1000268201_693b08cb0e.jpg#2\\tA little girl climbing into a wooden playhouse .\\n',\n",
       " '1000268201_693b08cb0e.jpg#3\\tA little girl climbing the stairs to her playhouse .\\n',\n",
       " '1000268201_693b08cb0e.jpg#4\\tA little girl in a pink dress going into a wooden cabin .\\n',\n",
       " '1001773457_577c3a7d70.jpg#0\\tA black dog and a spotted dog are fighting\\n',\n",
       " '1001773457_577c3a7d70.jpg#1\\tA black dog and a tri-colored dog playing with each other on the road .\\n',\n",
       " '1001773457_577c3a7d70.jpg#2\\tA black dog and a white dog with brown spots are staring at each other in the street .\\n',\n",
       " '1001773457_577c3a7d70.jpg#3\\tTwo dogs of different breeds looking at each other on the road .\\n',\n",
       " '1001773457_577c3a7d70.jpg#4\\tTwo dogs on pavement moving toward each other .\\n']"
      ]
     },
     "execution_count": 274,
     "metadata": {},
     "output_type": "execute_result"
    }
   ],
   "source": [
    "with open('dataset/captions/Flickr8k.token.txt') as f:\n",
    "    data = f.readlines()\n",
    "data[0:10]"
   ]
  },
  {
   "cell_type": "markdown",
   "metadata": {},
   "source": [
    "Each image contains 5 associated captions. the format of the data is as follows<br>\n",
    "image_name#i ith_caption"
   ]
  },
  {
   "cell_type": "code",
   "execution_count": 275,
   "metadata": {},
   "outputs": [
    {
     "name": "stdout",
     "output_type": "stream",
     "text": [
      "total images:  40460\n"
     ]
    }
   ],
   "source": [
    "print('total images: ', len(data))"
   ]
  },
  {
   "cell_type": "code",
   "execution_count": 276,
   "metadata": {},
   "outputs": [],
   "source": [
    "# we'll be creating a dictionary which will contain all the list \n",
    "descriptions = dict()\n",
    "for line in data:\n",
    "    # get the key\n",
    "    img_name = line.split('.')[0]\n",
    "    # check whether the img_name is unique if yes then initialise it with an empty list\n",
    "    if img_name not in descriptions.keys():\n",
    "        descriptions[img_name] = list()\n",
    "        \n",
    "    #*******PREPROCESSING************    \n",
    "    \n",
    "    # else and otherwise we'll append to that list our captions\n",
    "    # extract the caption and remove the '\\n' present at the end\n",
    "    tmp = line.split('\\t')[-1].strip('\\n').lower()\n",
    "    # split the sentence into words\n",
    "    tmp = line.split()\n",
    "    # remove words such as 'a' and check if the word is alpha and not $, #, ^ ...\n",
    "    tmp = [word for word in tmp if len(word) > 1 and word.isalpha()]\n",
    "    # join the words back to form a sentence\n",
    "    tmp = \" \".join(tmp)\n",
    "    # and remove punctuations using translate if there are some\n",
    "    descriptions[img_name].append(tmp.translate(str.maketrans(\"\",\"\",string.punctuation)))"
   ]
  },
  {
   "cell_type": "code",
   "execution_count": 277,
   "metadata": {},
   "outputs": [
    {
     "data": {
      "text/plain": [
       "['firefighter extinguishes fire under the hood of car',\n",
       " 'fireman spraying water into the hood of small white car on jack',\n",
       " 'fireman sprays inside the open hood of small white car on jack',\n",
       " 'fireman using firehose on car engine that is up on carjack',\n",
       " 'Firefighter uses water to extinguish car that was on fire']"
      ]
     },
     "execution_count": 277,
     "metadata": {},
     "output_type": "execute_result"
    }
   ],
   "source": [
    "# let's test it out\n",
    "descriptions['1351764581_4d4fb1b40f']"
   ]
  },
  {
   "cell_type": "markdown",
   "metadata": {},
   "source": [
    "one thing to notice about these captions is that some of the words are in upper case and some lower we've to get rid of these. we can use .lower() to make the sentence lower.<br> We also have to get rid of '.' and other kind of punctuations."
   ]
  },
  {
   "cell_type": "code",
   "execution_count": 278,
   "metadata": {},
   "outputs": [
    {
     "data": {
      "text/plain": [
       "'Hi this is Kishan and fuck off'"
      ]
     },
     "execution_count": 278,
     "metadata": {},
     "output_type": "execute_result"
    }
   ],
   "source": [
    "# a demonstration of how translate works\n",
    "\"Hi this is Kishan, and fuck off.\".translate(str.maketrans(\"\",\"\",string.punctuation))"
   ]
  },
  {
   "cell_type": "code",
   "execution_count": 279,
   "metadata": {},
   "outputs": [
    {
     "data": {
      "text/plain": [
       "'hi there how the fuck are you'"
      ]
     },
     "execution_count": 279,
     "metadata": {},
     "output_type": "execute_result"
    }
   ],
   "source": [
    "# demonstration of how \" \".join() works\n",
    "a = [\"hi\", \"there\", \"how\", \"the\", \"fuck\", \"are\", \"you\"]\n",
    "\" \".join(a)"
   ]
  },
  {
   "cell_type": "markdown",
   "metadata": {},
   "source": [
    "Let's summarise what we've done till now and what are we gonna do later<br>\n",
    "Things we've done\n",
    "<ol>\n",
    "    <li> We've built a dictionary that maps all the captions pertaining to a particular image</li>\n",
    "</ol>\n",
    "<br>\n",
    "Things we are going to do next<br>\n",
    "<ol> \n",
    "    <li> We're going to first build our training dataset based on the dictionary that we've created</li>\n",
    "    <li> rest will be explained as we go further...</li>\n",
    "</ol>"
   ]
  },
  {
   "cell_type": "code",
   "execution_count": 285,
   "metadata": {},
   "outputs": [
    {
     "name": "stdout",
     "output_type": "stream",
     "text": [
      "length of the training data:  6000\n"
     ]
    }
   ],
   "source": [
    "# load the training images from the file named Flickr_8k.trainImages.txt\n",
    "with open('dataset/captions/Flickr_8k.trainImages.txt') as f:\n",
    "    training_images = f.readlines()\n",
    "print('length of the training data: ', len(training_images))"
   ]
  },
  {
   "cell_type": "code",
   "execution_count": 287,
   "metadata": {},
   "outputs": [
    {
     "data": {
      "text/plain": [
       "['2513260012_03d33305cf',\n",
       " '2903617548_d3e38d7f88',\n",
       " '3338291921_fe7ae0c8f8',\n",
       " '488416045_1c6d903fe0',\n",
       " '2644326817_8f45080b87']"
      ]
     },
     "execution_count": 287,
     "metadata": {},
     "output_type": "execute_result"
    }
   ],
   "source": [
    "# we need to remove the .jpg and \\n because then only we can extract the captions from our description dictionary\n",
    "training_images = [t_images.split('.')[0] for t_images in training_images]\n",
    "training_images[0:5]"
   ]
  },
  {
   "cell_type": "code",
   "execution_count": 288,
   "metadata": {},
   "outputs": [],
   "source": [
    "# we need to build our dataset in such a way that every caption that starts start with some identifier and also ends with some identifier\n",
    "# we call this identifier as <SOS> and <EOS> which means StartOfSequence and EndOfSequence\n",
    "training_descriptions = dict()\n",
    "for img_name in training_images:\n",
    "    # check whether the img_name is present or not in the descriptions\n",
    "    if img_name in descriptions.keys():\n",
    "        # if present initialise the training_description\n",
    "        training_descriptions[img_name] = list()\n",
    "        # extract all the captions\n",
    "        captions = descriptions[img_name]\n",
    "        for caption in captions:\n",
    "            training_descriptions[img_name].append(\"<SOS> \" + caption + \" <EOS>\")"
   ]
  },
  {
   "cell_type": "code",
   "execution_count": 289,
   "metadata": {},
   "outputs": [
    {
     "data": {
      "text/plain": [
       "['<SOS> black dog is running after white dog in the snow <EOS>',\n",
       " '<SOS> Black dog chasing brown dog through snow <EOS>',\n",
       " '<SOS> Two dogs chase each other across the snowy ground <EOS>',\n",
       " '<SOS> Two dogs play together in the snow <EOS>',\n",
       " '<SOS> Two dogs running through low lying body of water <EOS>']"
      ]
     },
     "execution_count": 289,
     "metadata": {},
     "output_type": "execute_result"
    }
   ],
   "source": [
    "training_descriptions['2513260012_03d33305cf']"
   ]
  },
  {
   "cell_type": "markdown",
   "metadata": {},
   "source": [
    "<b>Similarly with the testing set</b>"
   ]
  },
  {
   "cell_type": "code",
   "execution_count": 406,
   "metadata": {},
   "outputs": [
    {
     "data": {
      "text/plain": [
       "['3385593926_d3e9c21170.jpg\\n',\n",
       " '2677656448_6b7e7702af.jpg\\n',\n",
       " '311146855_0b65fdb169.jpg\\n',\n",
       " '1258913059_07c613f7ff.jpg\\n',\n",
       " '241347760_d44c8d3a01.jpg\\n']"
      ]
     },
     "execution_count": 406,
     "metadata": {},
     "output_type": "execute_result"
    }
   ],
   "source": [
    "with open('dataset/captions/Flickr_8k.testImages.txt') as f:\n",
    "    testing_images = f.readlines()\n",
    "testing_images[0:5]"
   ]
  },
  {
   "cell_type": "code",
   "execution_count": 407,
   "metadata": {},
   "outputs": [],
   "source": [
    "testing_images = [t_images.split('.')[0] for t_images in testing_images]"
   ]
  },
  {
   "cell_type": "code",
   "execution_count": 408,
   "metadata": {},
   "outputs": [],
   "source": [
    "testing_descriptions = dict()\n",
    "for img_name in testing_images:\n",
    "    # check whether the img_name is present or not in the descriptions\n",
    "    if img_name in descriptions.keys():\n",
    "        # if present initialise the training_description\n",
    "        testing_descriptions[img_name] = list()\n",
    "        # extract all the captions\n",
    "        captions = descriptions[img_name]\n",
    "        for caption in captions:\n",
    "            testing_descriptions[img_name].append(\"<SOS> \" + caption + \" <EOS>\")"
   ]
  },
  {
   "cell_type": "code",
   "execution_count": 409,
   "metadata": {},
   "outputs": [
    {
     "data": {
      "text/plain": [
       "['<SOS> The dogs are in the snow in front of fence <EOS>',\n",
       " '<SOS> The dogs play on the snow <EOS>',\n",
       " '<SOS> Two brown dogs playfully fight in the snow <EOS>',\n",
       " '<SOS> Two brown dogs wrestle in the snow <EOS>',\n",
       " '<SOS> Two dogs playing in the snow <EOS>']"
      ]
     },
     "execution_count": 409,
     "metadata": {},
     "output_type": "execute_result"
    }
   ],
   "source": [
    "testing_descriptions['3385593926_d3e9c21170']"
   ]
  },
  {
   "cell_type": "code",
   "execution_count": 291,
   "metadata": {},
   "outputs": [
    {
     "name": "stdout",
     "output_type": "stream",
     "text": [
      "Model: \"vgg16\"\n",
      "_________________________________________________________________\n",
      "Layer (type)                 Output Shape              Param #   \n",
      "=================================================================\n",
      "input_14 (InputLayer)        (None, 224, 224, 3)       0         \n",
      "_________________________________________________________________\n",
      "block1_conv1 (Conv2D)        (None, 224, 224, 64)      1792      \n",
      "_________________________________________________________________\n",
      "block1_conv2 (Conv2D)        (None, 224, 224, 64)      36928     \n",
      "_________________________________________________________________\n",
      "block1_pool (MaxPooling2D)   (None, 112, 112, 64)      0         \n",
      "_________________________________________________________________\n",
      "block2_conv1 (Conv2D)        (None, 112, 112, 128)     73856     \n",
      "_________________________________________________________________\n",
      "block2_conv2 (Conv2D)        (None, 112, 112, 128)     147584    \n",
      "_________________________________________________________________\n",
      "block2_pool (MaxPooling2D)   (None, 56, 56, 128)       0         \n",
      "_________________________________________________________________\n",
      "block3_conv1 (Conv2D)        (None, 56, 56, 256)       295168    \n",
      "_________________________________________________________________\n",
      "block3_conv2 (Conv2D)        (None, 56, 56, 256)       590080    \n",
      "_________________________________________________________________\n",
      "block3_conv3 (Conv2D)        (None, 56, 56, 256)       590080    \n",
      "_________________________________________________________________\n",
      "block3_pool (MaxPooling2D)   (None, 28, 28, 256)       0         \n",
      "_________________________________________________________________\n",
      "block4_conv1 (Conv2D)        (None, 28, 28, 512)       1180160   \n",
      "_________________________________________________________________\n",
      "block4_conv2 (Conv2D)        (None, 28, 28, 512)       2359808   \n",
      "_________________________________________________________________\n",
      "block4_conv3 (Conv2D)        (None, 28, 28, 512)       2359808   \n",
      "_________________________________________________________________\n",
      "block4_pool (MaxPooling2D)   (None, 14, 14, 512)       0         \n",
      "_________________________________________________________________\n",
      "block5_conv1 (Conv2D)        (None, 14, 14, 512)       2359808   \n",
      "_________________________________________________________________\n",
      "block5_conv2 (Conv2D)        (None, 14, 14, 512)       2359808   \n",
      "_________________________________________________________________\n",
      "block5_conv3 (Conv2D)        (None, 14, 14, 512)       2359808   \n",
      "_________________________________________________________________\n",
      "block5_pool (MaxPooling2D)   (None, 7, 7, 512)         0         \n",
      "_________________________________________________________________\n",
      "flatten (Flatten)            (None, 25088)             0         \n",
      "_________________________________________________________________\n",
      "fc1 (Dense)                  (None, 4096)              102764544 \n",
      "_________________________________________________________________\n",
      "fc2 (Dense)                  (None, 4096)              16781312  \n",
      "_________________________________________________________________\n",
      "predictions (Dense)          (None, 1000)              4097000   \n",
      "=================================================================\n",
      "Total params: 138,357,544\n",
      "Trainable params: 138,357,544\n",
      "Non-trainable params: 0\n",
      "_________________________________________________________________\n"
     ]
    }
   ],
   "source": [
    "# we've built the caption as how they should look, we need to preprocess the images as well\n",
    "# all we want is some vector representation of those images because it is these vectors that will be fed to the RNNs\n",
    "# we can use some pretrained model to acts as our feature extractor and here we'll be using vgg16 for our purpose\n",
    "from keras.applications.vgg16 import VGG16\n",
    "base_model = VGG16(include_top=True, weights='imagenet') # we only want to get rid of the softmax layer\n",
    "# first get the summary of how it looks like\n",
    "base_model.summary()"
   ]
  },
  {
   "cell_type": "markdown",
   "metadata": {},
   "source": [
    "# Image preprocessing / Encoding phase"
   ]
  },
  {
   "cell_type": "code",
   "execution_count": 292,
   "metadata": {},
   "outputs": [],
   "source": [
    "from tqdm import tqdm\n",
    "from keras.models import Model\n",
    "from keras.preprocessing import image\n",
    "from keras.applications.vgg16 import preprocess_input\n",
    "# we'll remove the last layer\n",
    "model = Model(base_model.input, base_model.layers[-2].output)\n",
    "# the model will output a 4096 feature vector\n",
    "# the next task is to pass all the images to this layer and extract the features of it"
   ]
  },
  {
   "cell_type": "code",
   "execution_count": 293,
   "metadata": {},
   "outputs": [],
   "source": [
    "def preprocess_image(img_name, directory):\n",
    "    \"\"\"\n",
    "    It takes the name of an image and the directory in which it is placed\n",
    "    and outputs the processed image\n",
    "    \"\"\"\n",
    "    img = image.load_img(directory + img_name + \".jpg\", target_size=(224, 224)) # since the vgg16 requires 224,224\n",
    "    img = image.img_to_array(img)\n",
    "    img = preprocess_input(img)\n",
    "    img = np.expand_dims(img, axis=0)\n",
    "    return img"
   ]
  },
  {
   "cell_type": "code",
   "execution_count": 83,
   "metadata": {},
   "outputs": [
    {
     "name": "stderr",
     "output_type": "stream",
     "text": [
      "100%|██████████| 6000/6000 [1:46:08<00:00,  2.46it/s]     \n"
     ]
    }
   ],
   "source": [
    "# we'll create a dictionary that will map each training image with its feature vector\n",
    "feature_mapping = dict()\n",
    "directory = \"dataset/images/\"\n",
    "for img_name in tqdm(training_images):\n",
    "    # first we need to preprocess the image before inputting it into the network \n",
    "    img = preprocess_image(img_name, directory)\n",
    "    features = model.predict(img)\n",
    "    feature_mapping[img_name] = np.reshape(features, features.shape[1])"
   ]
  },
  {
   "cell_type": "code",
   "execution_count": 96,
   "metadata": {},
   "outputs": [
    {
     "name": "stderr",
     "output_type": "stream",
     "text": [
      "100%|██████████| 1000/1000 [06:44<00:00,  2.49it/s]\n"
     ]
    }
   ],
   "source": [
    "feature_mapping_test = dict()\n",
    "directory = \"dataset/images/\"\n",
    "for img_name in tqdm(testing_images):\n",
    "    # first we need to preprocess the image before inputting it into the network \n",
    "    img = preprocess_image(img_name, directory)\n",
    "    features = model.predict(img)\n",
    "    feature_mapping_test[img_name] = np.reshape(features, features.shape[1])"
   ]
  },
  {
   "cell_type": "code",
   "execution_count": 89,
   "metadata": {},
   "outputs": [],
   "source": [
    "# finally save the dictionary in a pickle file\n",
    "import pickle\n",
    "with open('train_images_encoded.pickle', 'wb') as f:\n",
    "    pickle.dump(feature_mapping, f, protocol=pickle.HIGHEST_PROTOCOL)"
   ]
  },
  {
   "cell_type": "code",
   "execution_count": 97,
   "metadata": {},
   "outputs": [],
   "source": [
    "with open('test_images_encoded.pickle', 'wb') as f:\n",
    "    pickle.dump(feature_mapping_test, f, protocol=pickle.HIGHEST_PROTOCOL)"
   ]
  },
  {
   "cell_type": "markdown",
   "metadata": {},
   "source": [
    "<b> Read back the file</b>"
   ]
  },
  {
   "cell_type": "code",
   "execution_count": 327,
   "metadata": {},
   "outputs": [],
   "source": [
    "# let's read it back to see it is working fine\n",
    "with open('train_images_encoded.pickle', 'rb') as f:\n",
    "    train_feature_mapping = pickle.load(f)"
   ]
  },
  {
   "cell_type": "code",
   "execution_count": 328,
   "metadata": {},
   "outputs": [],
   "source": [
    "with open('test_images_encoded.pickle', 'rb') as f:\n",
    "    test_feature_mapping = pickle.load(f)"
   ]
  },
  {
   "cell_type": "code",
   "execution_count": null,
   "metadata": {},
   "outputs": [],
   "source": []
  },
  {
   "cell_type": "code",
   "execution_count": null,
   "metadata": {},
   "outputs": [],
   "source": []
  },
  {
   "cell_type": "markdown",
   "metadata": {},
   "source": [
    "# Text preprocessing / Encoding Phase"
   ]
  },
  {
   "cell_type": "code",
   "execution_count": 329,
   "metadata": {},
   "outputs": [],
   "source": [
    "from keras.preprocessing.text import Tokenizer"
   ]
  },
  {
   "cell_type": "code",
   "execution_count": 330,
   "metadata": {},
   "outputs": [],
   "source": [
    "# instead of the above process we will use tokenizer for converting the word to int\n",
    "# code from https://machinelearningmastery.com/develop-a-deep-learning-caption-generation-model-in-python/\n",
    "def to_lines(descriptions):\n",
    "    all_desc = list()\n",
    "    for key in descriptions.keys():\n",
    "        [all_desc.append(d) for d in descriptions[key]]\n",
    "    return all_desc\n",
    "\n",
    "def create_tokenizer(descriptions):\n",
    "    # descriptions is a dictionary for fitting a tokenizer we need a list of sequences\n",
    "    sentences = to_lines(descriptions)\n",
    "    tokenizer = Tokenizer()\n",
    "    tokenizer.fit_on_texts(sentences)\n",
    "    return tokenizer"
   ]
  },
  {
   "cell_type": "code",
   "execution_count": 331,
   "metadata": {},
   "outputs": [
    {
     "name": "stdout",
     "output_type": "stream",
     "text": [
      "7266\n"
     ]
    }
   ],
   "source": [
    "# prepare a tokenizer\n",
    "tokenizer = create_tokenizer(training_descriptions)\n",
    "vocab_size = len(tokenizer.word_index) + 1\n",
    "print(vocab_size)"
   ]
  },
  {
   "cell_type": "code",
   "execution_count": null,
   "metadata": {},
   "outputs": [],
   "source": []
  },
  {
   "cell_type": "code",
   "execution_count": 332,
   "metadata": {},
   "outputs": [],
   "source": [
    "# we also need to find the caption that has maximum length, so that we can pad all the other captions to be that size\n",
    "# because RNNs require constant size sequences\n",
    "# max_len = 0\n",
    "# for captions in training_descriptions.values():\n",
    "#     for caption in captions:\n",
    "#         words = caption.split()\n",
    "#         max_len = max(max_len, len(words))\n",
    "def max_length(descriptions):\n",
    "    lines = to_lines(descriptions)\n",
    "    return max(len(d.split()) for d in lines)"
   ]
  },
  {
   "cell_type": "code",
   "execution_count": 333,
   "metadata": {},
   "outputs": [
    {
     "name": "stdout",
     "output_type": "stream",
     "text": [
      "max len:  33\n"
     ]
    }
   ],
   "source": [
    "max_len = max_length(training_descriptions)\n",
    "print(\"max len: \", max_length(training_descriptions))"
   ]
  },
  {
   "cell_type": "markdown",
   "metadata": {},
   "source": [
    "How do we create our dataset so that it can be fed into the RNN network, let's have a look at it.<br>\n",
    "Initially we need to input the \"image_features\" and the \"first word of the caption\" which is \"<SOS\\>\" token.<br>\n",
    "input : image_feature + '<SOS\\>', at t = 1<br>\n",
    "input : image_feature + '<SOS\\>, the', at t = 2<br>\n",
    "and so on ..."
   ]
  },
  {
   "cell_type": "code",
   "execution_count": 334,
   "metadata": {},
   "outputs": [],
   "source": [
    "from keras.preprocessing.sequence import pad_sequences\n",
    "from keras.utils import to_categorical"
   ]
  },
  {
   "cell_type": "code",
   "execution_count": 421,
   "metadata": {},
   "outputs": [],
   "source": [
    "# we'll be employing a data generator that will help us in training the model without completely loading the data in memory\n",
    "# we'll use this generator to fit the RNN model\n",
    "def data_generator(descriptions, encodings, batch_size):\n",
    "    # since the input to the model is two things \n",
    "    # 1: image_feature 2: word_feature\n",
    "    X1 = list() # to contain the image features\n",
    "    X2 = list() # to contain the word features\n",
    "    y = list() # to contain the prediction\n",
    "    n = 1\n",
    "    while True:\n",
    "        for img_name, captions in descriptions.items():\n",
    "            n += 1\n",
    "            image_feature = encodings[img_name]\n",
    "            for caption in captions:\n",
    "                # encode the sequence by changing the word to the index (use word2index dictionary)\n",
    "                # furthermore built the data as required by the RNN\n",
    "                # i.e. split the sequence into multiple pairs as described above\n",
    "                seq = tokenizer.texts_to_sequences([caption.split()])[0]# furthermore only allow the words that are present in the dictionary\n",
    "                for i in range(1, len(seq)):\n",
    "                    # build the pairs\n",
    "                    x_seq, y_seq = seq[:i], seq[i]\n",
    "                    # now pad the sequences (using keras pad sequences so as all the sequences have same size)\n",
    "                    x_seq = pad_sequences([x_seq], maxlen=max_len)[0]\n",
    "                    # convert the y to categorical\n",
    "                    y_seq = to_categorical([y_seq], num_classes=vocab_size)[0]\n",
    "                    \n",
    "                    X1.append(image_feature)\n",
    "                    X2.append(x_seq)\n",
    "                    y.append(y_seq)\n",
    "                    \n",
    "            if n == batch_size:\n",
    "                yield ([np.array(X1), np.array(X2)], np.array(y))\n",
    "                # reinitialise it\n",
    "                X1 = list()\n",
    "                X2 = list()\n",
    "                y = list()\n",
    "                n = 0 "
   ]
  },
  {
   "cell_type": "code",
   "execution_count": 439,
   "metadata": {},
   "outputs": [],
   "source": [
    "# these words that we've used are one hot encoded, we need to get word embedding by representing it in a dense form\n",
    "# we will map each word to a 200 long vector, currently each word is represented by 3054 long vector\n",
    "# instead of learning word embedding by ourselves we'll use pre-trained word embeddings (GloVe)"
   ]
  },
  {
   "cell_type": "markdown",
   "metadata": {},
   "source": [
    "# Model architecture\n",
    "the model takes its input from two segments, the first segment brings the image_features whereas the second segment brings the recurring word features (which is followed by a Embedding layer)"
   ]
  },
  {
   "cell_type": "code",
   "execution_count": 428,
   "metadata": {},
   "outputs": [],
   "source": [
    "from keras.layers import Input, Dense, Embedding, Dropout, LSTM, add"
   ]
  },
  {
   "cell_type": "code",
   "execution_count": 434,
   "metadata": {},
   "outputs": [
    {
     "name": "stdout",
     "output_type": "stream",
     "text": [
      "Model: \"model_28\"\n",
      "__________________________________________________________________________________________________\n",
      "Layer (type)                    Output Shape         Param #     Connected to                     \n",
      "==================================================================================================\n",
      "caption_input (InputLayer)      (None, 33)           0                                            \n",
      "__________________________________________________________________________________________________\n",
      "image_input (InputLayer)        (None, 4096)         0                                            \n",
      "__________________________________________________________________________________________________\n",
      "embedding_layer (Embedding)     (None, 33, 200)      1453200     caption_input[0][0]              \n",
      "__________________________________________________________________________________________________\n",
      "image_segment_dropout (Dropout) (None, 4096)         0           image_input[0][0]                \n",
      "__________________________________________________________________________________________________\n",
      "caption_segment_dropout (Dropou (None, 33, 200)      0           embedding_layer[0][0]            \n",
      "__________________________________________________________________________________________________\n",
      "dense_31 (Dense)                (None, 256)          1048832     image_segment_dropout[0][0]      \n",
      "__________________________________________________________________________________________________\n",
      "LSTM (LSTM)                     (None, 256)          467968      caption_segment_dropout[0][0]    \n",
      "__________________________________________________________________________________________________\n",
      "decoder (Add)                   (None, 256)          0           dense_31[0][0]                   \n",
      "                                                                 LSTM[0][0]                       \n",
      "__________________________________________________________________________________________________\n",
      "decoder_dense (Dense)           (None, 256)          65792       decoder[0][0]                    \n",
      "__________________________________________________________________________________________________\n",
      "outputs (Dense)                 (None, 7266)         1867362     decoder_dense[0][0]              \n",
      "==================================================================================================\n",
      "Total params: 4,903,154\n",
      "Trainable params: 4,903,154\n",
      "Non-trainable params: 0\n",
      "__________________________________________________________________________________________________\n"
     ]
    }
   ],
   "source": [
    "# image feature segment\n",
    "image_input = Input(shape=(4096,), name=\"image_input\")\n",
    "# s stands for segment\n",
    "s1 = Dropout(0.5, name=\"image_segment_dropout\")(image_input)\n",
    "s1 = Dense(units=256, activation='relu')(s1)\n",
    "\n",
    "# caption sequence segment\n",
    "caption_input = Input(shape=(max_len,), name=\"caption_input\")\n",
    "s2 = Embedding(vocab_size, embedding_dim, mask_zero=True, name=\"embedding_layer\")(caption_input)\n",
    "s2 = Dropout(0.5, name=\"caption_segment_dropout\")(s2)\n",
    "s2 = LSTM(256, name='LSTM')(s2)\n",
    "\n",
    "# decoder model\n",
    "decoder = add([s1, s2], name=\"decoder\")\n",
    "decoder = Dense(units=256, activation='relu', name=\"decoder_dense\")(decoder)\n",
    "outputs = Dense(units=vocab_size, activation='softmax', name='outputs')(decoder)\n",
    "\n",
    "final = Model(inputs=[image_input, caption_input], outputs=outputs)\n",
    "final.summary()"
   ]
  },
  {
   "cell_type": "code",
   "execution_count": 436,
   "metadata": {},
   "outputs": [],
   "source": [
    "final.compile(optimizer='adam', loss='categorical_crossentropy')"
   ]
  },
  {
   "cell_type": "code",
   "execution_count": 437,
   "metadata": {},
   "outputs": [],
   "source": [
    "# build the generators\n",
    "train_gen = data_generator(training_descriptions, encodings=train_feature_mapping, batch_size=16)\n",
    "val_gen = data_generator(testing_descriptions, encodings=test_feature_mapping, batch_size=16)"
   ]
  },
  {
   "cell_type": "code",
   "execution_count": 481,
   "metadata": {},
   "outputs": [],
   "source": [
    "from keras.callbacks import ModelCheckpoint, EarlyStopping\n",
    "callbacks = [ModelCheckpoint('model/best.h5', monitor='val_loss', save_best_only=True, save_weights_only=False)]"
   ]
  },
  {
   "cell_type": "code",
   "execution_count": null,
   "metadata": {},
   "outputs": [
    {
     "name": "stdout",
     "output_type": "stream",
     "text": [
      "Epoch 1/20\n",
      "123/375 [========>.....................] - ETA: 6:31 - loss: 3.0194"
     ]
    }
   ],
   "source": [
    "history = final.fit_generator(generator=train_gen, epochs=20, steps_per_epoch=len(training_descriptions) / 16, validation_data=val_gen, validation_steps=len(testing_descriptions) / 16, callbacks=callbacks)"
   ]
  },
  {
   "cell_type": "code",
   "execution_count": 451,
   "metadata": {},
   "outputs": [
    {
     "data": {
      "image/png": "[encoded data removed]",
      "text/plain": [
       "<Figure size 432x288 with 1 Axes>"
      ]
     },
     "metadata": {
      "needs_background": "light"
     },
     "output_type": "display_data"
    }
   ],
   "source": [
    "plt.title('loss')\n",
    "plt.xlabel('# of epochs')\n",
    "plt.ylabel('loss')\n",
    "plt.plot(history.history['val_loss'])\n",
    "plt.plot(history.history['loss'])\n",
    "plt.legend(['val_loss', 'train_loss'])\n",
    "plt.show()"
   ]
  },
  {
   "cell_type": "code",
   "execution_count": 456,
   "metadata": {},
   "outputs": [],
   "source": [
    "from keras.models import load_model"
   ]
  },
  {
   "cell_type": "code",
   "execution_count": 468,
   "metadata": {},
   "outputs": [],
   "source": [
    "# map an integer to a word\n",
    "def word_for_id(integer, tokenizer):\n",
    "    for word, index in tokenizer.word_index.items():\n",
    "        if index == integer:\n",
    "            return word\n",
    "    return None\n",
    "\n",
    "# generate a description for an image\n",
    "def generate_desc(model, tokenizer, feature, max_length):\n",
    "    # seed the generation process\n",
    "    in_text = '<SOS>'\n",
    "    # iterate over the whole length of the sequence\n",
    "    for i in range(max_length):\n",
    "        # integer encode input sequence\n",
    "        sequence = tokenizer.texts_to_sequences([in_text])[0]\n",
    "        # pad input\n",
    "        sequence = pad_sequences([sequence], maxlen=max_len)\n",
    "        # predict next word\n",
    "        yhat = model.predict([feature, sequence], verbose=0)\n",
    "        # convert probability to integer\n",
    "        yhat = np.argmax(yhat)\n",
    "        # map integer to word\n",
    "        word = word_for_id(yhat, tokenizer)\n",
    "        # stop if we cannot map the word\n",
    "        if word is None:\n",
    "            break\n",
    "        # append as input for generating the next word\n",
    "        in_text += ' ' + word\n",
    "        # stop if we predict the end of the sequence\n",
    "        if word == '<EOS>':\n",
    "            break\n",
    "    return in_text"
   ]
  },
  {
   "cell_type": "code",
   "execution_count": 469,
   "metadata": {},
   "outputs": [],
   "source": [
    "model = load_model('model/best.h5')"
   ]
  },
  {
   "cell_type": "code",
   "execution_count": 470,
   "metadata": {},
   "outputs": [],
   "source": [
    "def extract_features(filename):\n",
    "    # load the model\n",
    "    model = VGG16()\n",
    "    # re-structure the model\n",
    "    model.layers.pop()\n",
    "    model = Model(inputs=model.inputs, outputs=model.layers[-1].output)\n",
    "    # load the photo\n",
    "    img = image.load_img(filename, target_size=(224, 224))\n",
    "    # convert the image pixels to a numpy array\n",
    "    img = image.img_to_array(img)\n",
    "    # reshape data for the model\n",
    "    img = img.reshape((1, img.shape[0], img.shape[1], img.shape[2]))\n",
    "    # prepare the image for the VGG model\n",
    "    img = preprocess_input(img)\n",
    "    # get features\n",
    "    feature = model.predict(img, verbose=0)\n",
    "    return feature"
   ]
  },
  {
   "cell_type": "code",
   "execution_count": 476,
   "metadata": {},
   "outputs": [],
   "source": [
    "feature = extract_features('testing_image2.jpg')"
   ]
  },
  {
   "cell_type": "code",
   "execution_count": 477,
   "metadata": {},
   "outputs": [],
   "source": [
    "description = generate_desc(model, tokenizer, feature, max_len)"
   ]
  },
  {
   "cell_type": "code",
   "execution_count": 480,
   "metadata": {
    "scrolled": true
   },
   "outputs": [
    {
     "data": {
      "image/png": "[encoded data removed]",
      "text/plain": [
       "<Figure size 432x288 with 1 Axes>"
      ]
     },
     "metadata": {
      "needs_background": "light"
     },
     "output_type": "display_data"
    }
   ],
   "source": [
    "img = image.load_img('testing_image2.jpg')\n",
    "plt.imshow(img)\n",
    "plt.show()"
   ]
  },
  {
   "cell_type": "code",
   "execution_count": 479,
   "metadata": {},
   "outputs": [
    {
     "data": {
      "text/plain": [
       "'<SOS> little boy in blue shirt is playing with blue ball in the background and white and white shirt is holding her arms in the background and white and white shirt is holding her'"
      ]
     },
     "execution_count": 479,
     "metadata": {},
     "output_type": "execute_result"
    }
   ],
   "source": [
    "description"
   ]
  },
  {
   "cell_type": "code",
   "execution_count": null,
   "metadata": {},
   "outputs": [],
   "source": []
  }
 ],
 "metadata": {
  "kernelspec": {
   "display_name": "Python 3",
   "language": "python",
   "name": "python3"
  },
  "language_info": {
   "codemirror_mode": {
    "name": "ipython",
    "version": 3
   },
   "file_extension": ".py",
   "mimetype": "text/x-python",
   "name": "python",
   "nbconvert_exporter": "python",
   "pygments_lexer": "ipython3",
   "version": "3.7.3"
  }
 },
 "nbformat": 4,
 "nbformat_minor": 2
}
